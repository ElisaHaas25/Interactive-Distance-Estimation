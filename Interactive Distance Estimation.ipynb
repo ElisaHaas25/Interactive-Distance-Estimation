{
 "cells": [
  {
   "cell_type": "markdown",
   "id": "bdf6a89e-7faa-445e-b108-2156805aabf5",
   "metadata": {},
   "source": [
    "# Interactive Distance Estimation\n",
    "\n",
    "The Jupyter Notebook \"Interactive Distance Estimation.ipynb\" can be used to plot different prior models as well as their respective posteriors and estimated distances and distance errors.\n",
    "\n",
    "First you choose your model. There currently are three options:\n",
    "\n",
    "1. GGD: uses generalized gamma distribution as prior\n",
    "2. EDSD: uses exponentially decreasing density distribution as prior\n",
    "3. Photogeometric: uses combination of GGD prior and information on colour and apparent magnitude\n",
    "\n",
    "Next, you coose your type of input.\n",
    "\n",
    "1. Custom\n",
    "2. Single\n",
    "3. CSVfile (source_id only)\n",
    "4. CSVfile (name, parallax, parallax_error, ra, dec)\n",
    "\n",
    "With \"Custom\", you can use the sliders and respective fields to manually type in the inputs for your model.The sliders are limited but the boxes next to them are not, so if you want to exceed the maximum or minimum value of the sliders, type your input in the textfield. The fields \"source_id\" and \"Input .csv-file\" are only used for the other input types and are ignored here. The custom input is only available for the geometric models (GGD and EDSD), not the photogeometric one. The parameters \"alpha\" and \"beta\" are only used if you chose the GGD prior, since they are fixed for the EDSD prior. Then you can choose a name for your output files with \"Output .pdf/.csv-file\". There are three outputs with this type which are being saved in the \"results\"-folder:\n",
    "\n",
    "- 'your_name'MCMCsamples.csv: csv-file with MCMC-samples\n",
    "- 'your_name'summary.csv: csv-file with summary statistics\n",
    "- 'your_name'.pdf: pdf-file with plot If you have everything adjusted, click \"start\" to get your outputs.\n",
    "\n",
    "With \"Single\", you can choose a single source_id in the field \"source_id\". You can again choose a name for your output. All the other fields are being ignored. The parameters needed are automatically queried from Gaia. The distance inference includes a automatical zeropoint correction of the parallax. On the resulting plot, you can see a second distace esimate, which is the one from the published distance catalogue (blue).\n",
    "\n",
    "With \"CSVfile (source_id only)\" you can enter a csv-file containing a table with only source_id's and header \"source_id\". After selecting your name and klicking \"start\", it produces the same output as with \"single\", only for all the sources in the file. In addition to that, in saves comparison plots in 'your_name'comparison-plots.pdf, in which the inferred distances are compared to the ones from the catalogue.\n",
    "\n",
    "With \"CSVfile (name, parallax, parallax_error, ra, dec)\", you can enter a csv-file containing the columns listed (the name does not automatically have to be the source_id). With this, no data is queried by gaia and no zeropoint correction is being done (you can use your own correction). There is no comparison to the catalogue distances, as the output does not depend on the source_id. This only works for the geometric priors (GGD and EDSD) because for the Photogeometric, you would need more information.\n",
    "\n",
    "In the \"results\" folder, there is already some data from the test-table for the input \"CSVfile (source_id only)\" provided in the \"data\"-folder. You should delete this data before entering your own.\n",
    "\n",
    "Requirements:\n",
    "\n",
    "- R version 4.0.4 (2021-02-15)\n",
    "- Python 3.9.13 (main, Aug 25 2022, 23:26:10)\n",
    "- Jupyter Notebook or JupyterLab\n",
    "\n",
    "Python Packages: numpy, matplotlib, ipywidgets, IPython, scipy, math, astroquery, astropy, astropy_healpix, gaiadr3-zeropoint, rpy2\n",
    "R libraries: data.table, bit64, fields, mvtnorm, PolynomF\n",
    "\n"
   ]
  },
  {
   "cell_type": "code",
   "execution_count": 1,
   "id": "fbe06d92-dc2d-4c59-ad30-e30c603c17c6",
   "metadata": {},
   "outputs": [
    {
     "name": "stderr",
     "output_type": "stream",
     "text": [
      "R[write to console]: data.table 1.13.6 using 12 threads (see ?getDTthreads).  Latest news: r-datatable.com\n",
      "\n",
      "R[write to console]: Lade nötiges Paket: bit\n",
      "\n",
      "R[write to console]: \n",
      "Attache Paket: ‘bit’\n",
      "\n",
      "\n",
      "R[write to console]: The following object is masked from ‘package:data.table’:\n",
      "\n",
      "    setattr\n",
      "\n",
      "\n",
      "R[write to console]: The following object is masked from ‘package:base’:\n",
      "\n",
      "    xor\n",
      "\n",
      "\n",
      "R[write to console]: Attaching package bit64\n",
      "\n",
      "R[write to console]: package:bit64 (c) 2011-2017 Jens Oehlschlaegel\n",
      "\n",
      "R[write to console]: creators: integer64 runif64 seq :\n",
      "\n",
      "R[write to console]: coercion: as.integer64 as.vector as.logical as.integer as.double as.character as.bitstring\n",
      "\n",
      "R[write to console]: logical operator: ! & | xor != == < <= >= >\n",
      "\n",
      "R[write to console]: arithmetic operator: + - * / %/% %% ^\n",
      "\n",
      "R[write to console]: math: sign abs sqrt log log2 log10\n",
      "\n",
      "R[write to console]: math: floor ceiling trunc round\n",
      "\n",
      "R[write to console]: querying: is.integer64 is.vector [is.atomic} [length] format print str\n",
      "\n",
      "R[write to console]: values: is.na is.nan is.finite is.infinite\n",
      "\n",
      "R[write to console]: aggregation: any all min max range sum prod\n",
      "\n",
      "R[write to console]: cumulation: diff cummin cummax cumsum cumprod\n",
      "\n",
      "R[write to console]: access: length<- [ [<- [[ [[<-\n",
      "\n",
      "R[write to console]: combine: c rep cbind rbind as.data.frame\n",
      "\n",
      "R[write to console]: WARNING don't use as subscripts\n",
      "\n",
      "R[write to console]: WARNING semantics differ from integer\n",
      "\n",
      "R[write to console]: for more help type ?bit64\n",
      "\n",
      "R[write to console]: \n",
      "Attache Paket: ‘bit64’\n",
      "\n",
      "\n",
      "R[write to console]: The following objects are masked from ‘package:base’:\n",
      "\n",
      "    :, %in%, is.double, match, order, rank\n",
      "\n",
      "\n",
      "R[write to console]: Lade nötiges Paket: spam\n",
      "\n",
      "R[write to console]: Spam version 2.9-1 (2022-08-07) is loaded.\n",
      "Type 'help( Spam)' or 'demo( spam)' for a short introduction \n",
      "and overview of this package.\n",
      "Help for individual functions is also obtained by adding the\n",
      "suffix '.spam' to the function name, e.g. 'help( chol.spam)'.\n",
      "\n",
      "R[write to console]: \n",
      "Attache Paket: ‘spam’\n",
      "\n",
      "\n",
      "R[write to console]: The following objects are masked from ‘package:mvtnorm’:\n",
      "\n",
      "    rmvnorm, rmvt\n",
      "\n",
      "\n",
      "R[write to console]: The following objects are masked from ‘package:base’:\n",
      "\n",
      "    backsolve, forwardsolve\n",
      "\n",
      "\n",
      "R[write to console]: Lade nötiges Paket: viridis\n",
      "\n",
      "R[write to console]: Lade nötiges Paket: viridisLite\n",
      "\n",
      "R[write to console]: \n",
      "Try help(fields) to get started.\n",
      "\n"
     ]
    },
    {
     "data": {
      "application/vnd.jupyter.widget-view+json": {
       "model_id": "12697decf36548f8bfa0df5f7e5973d5",
       "version_major": 2,
       "version_minor": 0
      },
      "text/plain": [
       "RadioButtons(description='Model:', options=('GGD', 'EDSD', 'Photogeometric'), value='GGD')"
      ]
     },
     "metadata": {},
     "output_type": "display_data"
    },
    {
     "data": {
      "application/vnd.jupyter.widget-view+json": {
       "model_id": "25ef7d2697ef4d998077551366381cbc",
       "version_major": 2,
       "version_minor": 0
      },
      "text/plain": [
       "Select(description='Mode:', layout=Layout(width='max-content'), options=('Custom', 'Single', 'CSVfile (source_…"
      ]
     },
     "metadata": {},
     "output_type": "display_data"
    },
    {
     "data": {
      "application/vnd.jupyter.widget-view+json": {
       "model_id": "ff900ddd3ac3417f836ad9e892c4d1cb",
       "version_major": 2,
       "version_minor": 0
      },
      "text/plain": [
       "Text(value='28147497671505664', description='source_id')"
      ]
     },
     "metadata": {},
     "output_type": "display_data"
    },
    {
     "data": {
      "application/vnd.jupyter.widget-view+json": {
       "model_id": "bfa08474379d4ccb901266c54b7ba9bb",
       "version_major": 2,
       "version_minor": 0
      },
      "text/plain": [
       "Text(value='test', description='Input .csv-file')"
      ]
     },
     "metadata": {},
     "output_type": "display_data"
    },
    {
     "data": {
      "application/vnd.jupyter.widget-view+json": {
       "model_id": "171e92c7973d4c408159eeb1e95f13fa",
       "version_major": 2,
       "version_minor": 0
      },
      "text/plain": [
       "Text(value='results', description='Output .pdf/.csv-file', style=DescriptionStyle(description_width='initial')…"
      ]
     },
     "metadata": {},
     "output_type": "display_data"
    },
    {
     "data": {
      "application/vnd.jupyter.widget-view+json": {
       "model_id": "9692f10563c146d79c5c2969554c9c0b",
       "version_major": 2,
       "version_minor": 0
      },
      "text/plain": [
       "HBox(children=(FloatSlider(value=1.0, continuous_update=False, description='Parallax [mas]:', max=2.0, min=-2.…"
      ]
     },
     "metadata": {},
     "output_type": "display_data"
    },
    {
     "data": {
      "application/vnd.jupyter.widget-view+json": {
       "model_id": "869c09f1440443c5b45319ccb2cc9c91",
       "version_major": 2,
       "version_minor": 0
      },
      "text/plain": [
       "HBox(children=(FloatSlider(value=0.2, continuous_update=False, description='Parallax error [mas]:', max=2.0, r…"
      ]
     },
     "metadata": {},
     "output_type": "display_data"
    },
    {
     "data": {
      "application/vnd.jupyter.widget-view+json": {
       "model_id": "a800f731fb59433383dc4d49ffc6bb85",
       "version_major": 2,
       "version_minor": 0
      },
      "text/plain": [
       "HBox(children=(FloatSlider(value=200.0, continuous_update=False, description='Length scale [pc]:', max=1000.0,…"
      ]
     },
     "metadata": {},
     "output_type": "display_data"
    },
    {
     "data": {
      "application/vnd.jupyter.widget-view+json": {
       "model_id": "739e35f1a743400880ec39b31cac99f3",
       "version_major": 2,
       "version_minor": 0
      },
      "text/plain": [
       "HBox(children=(FloatSlider(value=1.0, continuous_update=False, description='alpha for GGD prior', max=3.0, rea…"
      ]
     },
     "metadata": {},
     "output_type": "display_data"
    },
    {
     "data": {
      "application/vnd.jupyter.widget-view+json": {
       "model_id": "ab50624cf9894356a5ada99a0978b01e",
       "version_major": 2,
       "version_minor": 0
      },
      "text/plain": [
       "HBox(children=(FloatSlider(value=2.0, continuous_update=False, description='beta for GGD prior', max=3.0, read…"
      ]
     },
     "metadata": {},
     "output_type": "display_data"
    },
    {
     "data": {
      "application/vnd.jupyter.widget-view+json": {
       "model_id": "0108388faab3490db218cdad124e4086",
       "version_major": 2,
       "version_minor": 0
      },
      "text/plain": [
       "HBox(children=(FloatSlider(value=1000.0, continuous_update=False, description='starting value of Metropolis al…"
      ]
     },
     "metadata": {},
     "output_type": "display_data"
    },
    {
     "data": {
      "application/vnd.jupyter.widget-view+json": {
       "model_id": "c327c19da33241b3b405ab6839ebf633",
       "version_major": 2,
       "version_minor": 0
      },
      "text/plain": [
       "HBox(children=(FloatSlider(value=250.0, continuous_update=False, description='stepsize of Metropolis algorithm…"
      ]
     },
     "metadata": {},
     "output_type": "display_data"
    },
    {
     "data": {
      "application/vnd.jupyter.widget-view+json": {
       "model_id": "1789aa68eba145dbabe784197a72a998",
       "version_major": 2,
       "version_minor": 0
      },
      "text/plain": [
       "HBox(children=(IntSlider(value=500, continuous_update=False, description='number of burn-in samples:', max=100…"
      ]
     },
     "metadata": {},
     "output_type": "display_data"
    },
    {
     "data": {
      "application/vnd.jupyter.widget-view+json": {
       "model_id": "a0e5fe4d62414004825e0bec597856eb",
       "version_major": 2,
       "version_minor": 0
      },
      "text/plain": [
       "HBox(children=(IntSlider(value=5000, continuous_update=False, description='number of posterior samples:', max=…"
      ]
     },
     "metadata": {},
     "output_type": "display_data"
    },
    {
     "data": {
      "application/vnd.jupyter.widget-view+json": {
       "model_id": "dd018293d4da4840829fd68425a0ba16",
       "version_major": 2,
       "version_minor": 0
      },
      "text/plain": [
       "Button(description='start', style=ButtonStyle())"
      ]
     },
     "metadata": {},
     "output_type": "display_data"
    },
    {
     "data": {
      "application/vnd.jupyter.widget-view+json": {
       "model_id": "99a87d0695ad41389b767f6b149c3601",
       "version_major": 2,
       "version_minor": 0
      },
      "text/plain": [
       "Output()"
      ]
     },
     "metadata": {},
     "output_type": "display_data"
    }
   ],
   "source": [
    "from run_interactive_display import *\n",
    "\n",
    "out # display output \n"
   ]
  },
  {
   "cell_type": "code",
   "execution_count": null,
   "id": "5403d073-9156-42be-b040-a67c17c8a042",
   "metadata": {},
   "outputs": [],
   "source": []
  }
 ],
 "metadata": {
  "kernelspec": {
   "display_name": "Python 3 (ipykernel)",
   "language": "python",
   "name": "python3"
  },
  "language_info": {
   "codemirror_mode": {
    "name": "ipython",
    "version": 3
   },
   "file_extension": ".py",
   "mimetype": "text/x-python",
   "name": "python",
   "nbconvert_exporter": "python",
   "pygments_lexer": "ipython3",
   "version": "3.9.13"
  }
 },
 "nbformat": 4,
 "nbformat_minor": 5
}
