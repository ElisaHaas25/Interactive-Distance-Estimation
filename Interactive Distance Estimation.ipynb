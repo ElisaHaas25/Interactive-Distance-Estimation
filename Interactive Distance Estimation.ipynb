{
 "cells": [
  {
   "cell_type": "markdown",
   "id": "bdf6a89e-7faa-445e-b108-2156805aabf5",
   "metadata": {},
   "source": [
    "# Interactive Distance Estimation\n",
    "\n",
    "The Jupyter Notebook \"Interactive Distance Estimation.ipynb\" can be used to plot different prior models as well as their respective posteriors and estimated distances and distance errors.\n",
    "\n",
    "First you choose your model. There currently are three options:\n",
    "\n",
    "1. GGD: uses generalized gamma distribution as prior\n",
    "2. EDSD: uses exponentially decreasing density distribution as prior\n",
    "3. Photogeometric: uses combination of GGD prior and information on colour and apparent magnitude\n",
    "\n",
    "Next, you coose your type of input.\n",
    "\n",
    "1. Custom\n",
    "2. Single\n",
    "3. CSVfile (source_id only)\n",
    "4. CSVfile (name, parallax, parallax_error, ra, dec)\n",
    "\n",
    "In the field \"seed\", you can enter a random number to ensure that you get the same result if you run the code with the same settings multiple times. \n",
    "\n",
    "With \"Custom\", you can use the sliders and respective fields to manually type in the inputs for your model.The sliders are limited but the boxes next to them are not, so if you want to exceed the maximum or minimum value of the sliders, type your input in the textfield. The fields \"source_id\" and \"Input .csv-file\" are only used for the other input types and are ignored here. The custom input is only available for the geometric models (GGD and EDSD), not the photogeometric one. The parameters \"alpha\" and \"beta\" are only used if you chose the GGD prior, since they are fixed for the EDSD prior. Then you can choose a name for your output files with \"Output .pdf/.csv-file\". There are three outputs with this type which are being saved in the \"results\"-folder:\n",
    "\n",
    "- 'your_name'MCMCsamples.csv: csv-file with MCMC-samples\n",
    "- 'your_name'summary.csv: csv-file with summary statistics\n",
    "- 'your_name'.pdf: pdf-file with plot If you have everything adjusted, click \"start\" to get your outputs.\n",
    "\n",
    "With \"Single\", you can choose a single Gaia DR3 source_id (without ‘Gaia DR3’) or a name to be resolved at Simbad in the field \"source_id/name\".You can again choose a name for your output. All the other fields are being ignored. The parameters needed are automatically queried from Gaia. The distance inference includes a automatical zeropoint correction of the parallax. On the resulting plot, you can see a second distace esimate, which is the one from the published distance catalogue (blue).\n",
    "\n",
    "With \"CSVfile (source_id only)\" you can enter a csv-file containing a table with only source_id's and header \"source_id\". After selecting your name and klicking \"start\", it produces the same output as with \"single\", only for all the sources in the file. In addition to that, in saves comparison plots in 'your_name'comparison-plots.pdf, in which the inferred distances are compared to the ones from the catalogue.\n",
    "\n",
    "With \"CSVfile (name, parallax, parallax_error, ra, dec)\", you can enter a csv-file containing the columns listed (the name does not automatically have to be the source_id). With this, no data is queried by gaia and no zeropoint correction is being done (you can use your own correction). There is no comparison to the catalogue distances, as the output does not depend on the source_id. This only works for the geometric priors (GGD and EDSD) because for the Photogeometric, you would need more information.\n",
    "\n",
    "In the \"results\" folder, there is already some data from the test-table for the input \"CSVfile (source_id only)\" provided in the \"data\"-folder. You should delete this data before entering your own.\n",
    "\n",
    "Requirements:\n",
    "\n",
    "- R version 4.0.4 (2021-02-15)\n",
    "- Python 3.9.13 (main, Aug 25 2022, 23:26:10)\n",
    "- Jupyter Notebook or JupyterLab\n",
    "\n",
    "Python Packages: numpy, matplotlib, ipywidgets, IPython, scipy, math, astroquery, astropy, astropy_healpix, gaiadr3-zeropoint, rpy2\n",
    "R libraries: data.table, bit64, fields, mvtnorm, PolynomF\n",
    "\n"
   ]
  },
  {
   "cell_type": "code",
   "execution_count": null,
   "id": "fbe06d92-dc2d-4c59-ad30-e30c603c17c6",
   "metadata": {},
   "outputs": [],
   "source": [
    "from run_interactive_display import *\n",
    "\n",
    "out # display output \n"
   ]
  },
  {
   "cell_type": "code",
   "execution_count": null,
   "id": "5403d073-9156-42be-b040-a67c17c8a042",
   "metadata": {},
   "outputs": [],
   "source": []
  }
 ],
 "metadata": {
  "kernelspec": {
   "display_name": "Python 3 (ipykernel)",
   "language": "python",
   "name": "python3"
  },
  "language_info": {
   "codemirror_mode": {
    "name": "ipython",
    "version": 3
   },
   "file_extension": ".py",
   "mimetype": "text/x-python",
   "name": "python",
   "nbconvert_exporter": "python",
   "pygments_lexer": "ipython3",
   "version": "3.9.13"
  }
 },
 "nbformat": 4,
 "nbformat_minor": 5
}
